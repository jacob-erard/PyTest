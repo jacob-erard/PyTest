{
 "cells": [
  {
   "cell_type": "markdown",
   "id": "b467903c-a562-4d9e-8050-c1cfdccb2041",
   "metadata": {},
   "source": [
    "The library that I chose is PyTest, a library that allows assertions/testing of functions. As a Data Science major, I've been in classes\n",
    "like CS1420 and CS2420 (currently in CS3500), which make heavy use of testing functionality. I find that tests are very helpful in a plethora of ways, and PyTest has some really great functionality built into the library. Here is the link to its documentation: [Link text](https://docs.pytest.org/en/stable/).\n",
    "\n",
    "Pytest allows for unit testing in python, which I find to be a powerful tool. Below is a basic introduction to some key functionalities of PyTest."
   ]
  },
  {
   "cell_type": "markdown",
   "id": "e017be6c-0673-4fa1-88f2-f782cbd28ea5",
   "metadata": {},
   "source": [
    "Advantages of PyTest:\n",
    "    1. It is great at handling small unit tests\n",
    "    2. It can parametrize tests, allowing all test cases to be stored in one space. This makes it readable and reusable.\n",
    "    3. Detailed assertions tell the user exactly what's wrong (expected output vs. actual output, if incorrect).\n",
    "    4. Test marking allows the user to fail tests on purpose, skip tests, and skip tests if some condition happens.\n",
    "Limitations:\n",
    "    1. Pytest isn't compatable with other languages, so multi-language programs can't use it.\n",
    "    2. For projects that require really high level details, pytest doesn't usually suffice.\n",
    "    3. Pytest requires python 3.8+, so anything written before these versions (anything with legacy code) is not compatible.\n",
    "    4. It is a fairly slow, so large testing suites can take a long time to execute."
   ]
  },
  {
   "cell_type": "code",
   "execution_count": 3,
   "id": "0ce6de4b-6ce4-4490-8ef3-85510210bf19",
   "metadata": {},
   "outputs": [
    {
     "name": "stdout",
     "output_type": "stream",
     "text": [
      "\u001b[1m======================================= test session starts =======================================\u001b[0m\n",
      "platform win32 -- Python 3.13.0, pytest-8.3.3, pluggy-1.5.0 -- C:\\Users\\jacob\\AppData\\Local\\Programs\\Python\\Python313\\python.exe\n",
      "cachedir: .pytest_cache\n",
      "rootdir: C:\\Users\\jacob\\OneDrive\\Desktop\\BMI6018\\Pytest\n",
      "plugins: anyio-4.6.2.post1\n",
      "\u001b[1mcollecting ... \u001b[0mcollected 1 item\n",
      "\n",
      "t_0364b4c1e070419aafc64c58d03ffabc.py::test_add_full_name \u001b[32mPASSED\u001b[0m\u001b[32m                             [100%]\u001b[0m\n",
      "\n",
      "\u001b[33m======================================== warnings summary =========================================\u001b[0m\n",
      "t_0364b4c1e070419aafc64c58d03ffabc.py::test_add_full_name\n",
      "  C:\\Users\\jacob\\AppData\\Local\\Temp\\ipykernel_20176\\3608346386.py:8: SettingWithCopyWarning: \n",
      "  A value is trying to be set on a copy of a slice from a DataFrame.\n",
      "  Try using .loc[row_indexer,col_indexer] = value instead\n",
      "  \n",
      "  See the caveats in the documentation: https://pandas.pydata.org/pandas-docs/stable/user_guide/indexing.html#returning-a-view-versus-a-copy\n",
      "    df['gender_and_race'] = df['gender'] + ' ' + df['race']\n",
      "\n",
      "-- Docs: https://docs.pytest.org/en/stable/how-to/capture-warnings.html\n",
      "\u001b[33m================================== \u001b[32m1 passed\u001b[0m, \u001b[33m\u001b[1m1 warning\u001b[0m\u001b[33m in 0.02s\u001b[0m\u001b[33m ===================================\u001b[0m\n"
     ]
    },
    {
     "data": {
      "text/plain": [
       "<ExitCode.OK: 0>"
      ]
     },
     "execution_count": 3,
     "metadata": {},
     "output_type": "execute_result"
    }
   ],
   "source": [
    "import pytest as pt\n",
    "import pandas as pd\n",
    "import ipytest\n",
    "data = pd.read_csv(\"diabetic_data.csv\")\n",
    "\n",
    "# Creating a new column to showcase the assert functionality\n",
    "def add_full_name(df):\n",
    "    df['gender_and_race'] = df['gender'] + ' ' + df['race']\n",
    "    return df\n",
    "\n",
    "@pt.fixture\n",
    "def sample_df():\n",
    "    return data.head()\n",
    "# This tests that the expected column of \"gender_and_race\" is created into the style that we want\n",
    "# When called from a terminal using pytest, it will use the pytest runner. This block runs this function like a normal python function.\n",
    "def test_add_full_name(sample_df):\n",
    "    new_data_frame = add_full_name(sample_df)\n",
    "    expected_full_names = [\n",
    "        'Female Caucasian',\n",
    "        'Female Caucasian',\n",
    "        'Female AfricanAmerican',\n",
    "        'Male Caucasian',\n",
    "        'Male Caucasian',\n",
    "    ]\n",
    "    assert list(new_data_frame['gender_and_race']) == expected_full_names, \\\n",
    "        f\"Expected full names {expected_full_names} but got {list(new_data_frame['gender_and_race'])}\"\n",
    "    print(\"Test passed!\")\n",
    "\n",
    "\n",
    "# Run the test\n",
    "ipytest.run('-v')\n",
    "#The warning below is becuase data.head() passes in a copy of the first 5 elements, rather than the actual first 5 elements. This is okay for this example."
   ]
  },
  {
   "cell_type": "code",
   "execution_count": 4,
   "id": "4253ed11-29f6-4970-93ee-dd13bb03cfb8",
   "metadata": {},
   "outputs": [
    {
     "name": "stdout",
     "output_type": "stream",
     "text": [
      "\u001b[1m======================================= test session starts =======================================\u001b[0m\n",
      "platform win32 -- Python 3.13.0, pytest-8.3.3, pluggy-1.5.0 -- C:\\Users\\jacob\\AppData\\Local\\Programs\\Python\\Python313\\python.exe\n",
      "cachedir: .pytest_cache\n",
      "rootdir: C:\\Users\\jacob\\OneDrive\\Desktop\\BMI6018\\Pytest\n",
      "plugins: anyio-4.6.2.post1\n",
      "\u001b[1mcollecting ... \u001b[0mcollected 1 item\n",
      "\n",
      "t_0364b4c1e070419aafc64c58d03ffabc.py::test_add_full_name \u001b[31mFAILED\u001b[0m\u001b[31m                             [100%]\u001b[0m\n",
      "\n",
      "============================================ FAILURES =============================================\n",
      "\u001b[31m\u001b[1m_______________________________________ test_add_full_name ________________________________________\u001b[0m\n",
      "\n",
      "sample_df =    encounter_id  patient_nbr             race  gender      age weight  \\\n",
      "0       2278392      8222157        Caucasian...        NO          Male Caucasian  \n",
      "4      Ch          Yes         NO          Male Caucasian  \n",
      "\n",
      "[5 rows x 51 columns]\n",
      "\n",
      "    \u001b[0m\u001b[94mdef\u001b[39;49;00m \u001b[92mtest_add_full_name\u001b[39;49;00m(sample_df):\u001b[90m\u001b[39;49;00m\n",
      "        new_data_frame = add_full_name(sample_df)\u001b[90m\u001b[39;49;00m\n",
      "        expected_full_names = [\u001b[90m\u001b[39;49;00m\n",
      "            \u001b[33m'\u001b[39;49;00m\u001b[33mFemale AfricanAmerican\u001b[39;49;00m\u001b[33m'\u001b[39;49;00m,\u001b[90m\u001b[39;49;00m\n",
      "            \u001b[33m'\u001b[39;49;00m\u001b[33mFemale Caucasian\u001b[39;49;00m\u001b[33m'\u001b[39;49;00m,\u001b[90m\u001b[39;49;00m\n",
      "            \u001b[33m'\u001b[39;49;00m\u001b[33mFemale AfricanAmerican\u001b[39;49;00m\u001b[33m'\u001b[39;49;00m,\u001b[90m\u001b[39;49;00m\n",
      "            \u001b[33m'\u001b[39;49;00m\u001b[33mMale Caucasian\u001b[39;49;00m\u001b[33m'\u001b[39;49;00m,\u001b[90m\u001b[39;49;00m\n",
      "            \u001b[33m'\u001b[39;49;00m\u001b[33mMale Caucasian\u001b[39;49;00m\u001b[33m'\u001b[39;49;00m,\u001b[90m\u001b[39;49;00m\n",
      "        ]\u001b[90m\u001b[39;49;00m\n",
      ">       \u001b[94massert\u001b[39;49;00m \u001b[96mlist\u001b[39;49;00m(new_data_frame[\u001b[33m'\u001b[39;49;00m\u001b[33mgender_and_race\u001b[39;49;00m\u001b[33m'\u001b[39;49;00m]) == expected_full_names, \\\n",
      "            \u001b[33mf\u001b[39;49;00m\u001b[33m\"\u001b[39;49;00m\u001b[33mExpected full names \u001b[39;49;00m\u001b[33m{\u001b[39;49;00mexpected_full_names\u001b[33m}\u001b[39;49;00m\u001b[33m but got \u001b[39;49;00m\u001b[33m{\u001b[39;49;00m\u001b[96mlist\u001b[39;49;00m(new_data_frame[\u001b[33m'\u001b[39;49;00m\u001b[33mgender_and_race\u001b[39;49;00m\u001b[33m'\u001b[39;49;00m])\u001b[33m}\u001b[39;49;00m\u001b[33m\"\u001b[39;49;00m\u001b[90m\u001b[39;49;00m\n",
      "\u001b[1m\u001b[31mE       AssertionError: Expected full names ['Female AfricanAmerican', 'Female Caucasian', 'Female AfricanAmerican', 'Male Caucasian', 'Male Caucasian'] but got ['Female Caucasian', 'Female Caucasian', 'Female AfricanAmerican', 'Male Caucasian', 'Male Caucasian']\u001b[0m\n",
      "\n",
      "\u001b[1m\u001b[31mC:\\Users\\jacob\\AppData\\Local\\Temp\\ipykernel_20176\\3135470276.py\u001b[0m:11: AssertionError\n",
      "\u001b[33m======================================== warnings summary =========================================\u001b[0m\n",
      "t_0364b4c1e070419aafc64c58d03ffabc.py::test_add_full_name\n",
      "  C:\\Users\\jacob\\AppData\\Local\\Temp\\ipykernel_20176\\3608346386.py:8: SettingWithCopyWarning: \n",
      "  A value is trying to be set on a copy of a slice from a DataFrame.\n",
      "  Try using .loc[row_indexer,col_indexer] = value instead\n",
      "  \n",
      "  See the caveats in the documentation: https://pandas.pydata.org/pandas-docs/stable/user_guide/indexing.html#returning-a-view-versus-a-copy\n",
      "    df['gender_and_race'] = df['gender'] + ' ' + df['race']\n",
      "\n",
      "-- Docs: https://docs.pytest.org/en/stable/how-to/capture-warnings.html\n",
      "\u001b[36m\u001b[1m===================================== short test summary info =====================================\u001b[0m\n",
      "\u001b[31mFAILED\u001b[0m t_0364b4c1e070419aafc64c58d03ffabc.py::\u001b[1mtest_add_full_name\u001b[0m - AssertionError: Expected full names ['Female AfricanAmerican', 'Female Caucasian', 'Female Afri...\n",
      "\u001b[31m================================== \u001b[31m\u001b[1m1 failed\u001b[0m, \u001b[33m1 warning\u001b[0m\u001b[31m in 0.13s\u001b[0m\u001b[31m ===================================\u001b[0m\n"
     ]
    },
    {
     "data": {
      "text/plain": [
       "<ExitCode.TESTS_FAILED: 1>"
      ]
     },
     "execution_count": 4,
     "metadata": {},
     "output_type": "execute_result"
    }
   ],
   "source": [
    "# This tests that the expected column of \"gender_and_race\" is created into the style that we want\n",
    "def test_add_full_name(sample_df):\n",
    "    new_data_frame = add_full_name(sample_df)\n",
    "    expected_full_names = [\n",
    "        'Female AfricanAmerican',\n",
    "        'Female Caucasian',\n",
    "        'Female AfricanAmerican',\n",
    "        'Male Caucasian',\n",
    "        'Male Caucasian',\n",
    "    ]\n",
    "    assert list(new_data_frame['gender_and_race']) == expected_full_names, \\\n",
    "        f\"Expected full names {expected_full_names} but got {list(new_data_frame['gender_and_race'])}\"\n",
    "    print(\"Test passed!\")\n",
    "\n",
    "ipytest.run('-v')"
   ]
  },
  {
   "cell_type": "markdown",
   "id": "066c3505-57a1-4a63-85bd-e0382b5db8b8",
   "metadata": {},
   "source": [
    "Above, you can see how easy it is to spot the difference between expected and actual outputs. One limitation of this is that data sets are not this small, so this method is really only useful for small tests like this."
   ]
  },
  {
   "cell_type": "code",
   "execution_count": 16,
   "id": "e84c17d0-c0e1-443d-a8ea-c41c97bdbff1",
   "metadata": {},
   "outputs": [],
   "source": [
    "\n",
    "# Function to calculate the mean of the `time_in_hospital` column\n",
    "def calculate_mean_time_in_hospital(df, gender=None):\n",
    "    if gender:\n",
    "        df = df[df['gender'] == gender]\n",
    "    return df['time_in_hospital'].mean()\n",
    "\n",
    "# Parameterized test cases\n",
    "@pt.mark.parametrize(\"gender, expected_mean\", [\n",
    "    (None, 1.8),  # Overall mean\n",
    "    ('Female', 2.0),  # Mean for Female patients\n",
    "    ('Male', 1.5),  # Mean for Male patients\n",
    "])\n",
    "def test_calculate_mean_time_in_hospital(gender, expected_mean, sample_df):\n",
    "    result = calculate_mean_time_in_hospital(sample_df, gender)\n",
    "    assert result == pt.approx(expected_mean), \\\n",
    "        f\"Expected mean {expected_mean} but got {result}\"\n",
    "\n",
    "# Fixture to provide sample dataframe\n",
    "@pt.fixture\n",
    "def sample_df():\n",
    "    return data.head()"
   ]
  },
  {
   "cell_type": "markdown",
   "id": "63e67fae-1465-4ad4-b80c-986ca86297ef",
   "metadata": {},
   "source": [
    "Failing and skipping"
   ]
  },
  {
   "cell_type": "code",
   "execution_count": 15,
   "id": "6ccf3ec3-81df-4bc0-b7df-e0ff2d53b546",
   "metadata": {},
   "outputs": [
    {
     "ename": "XFailed",
     "evalue": "Not implemented yet",
     "output_type": "error",
     "traceback": [
      "\u001b[1;31m---------------------------------------------------------------------------\u001b[0m",
      "\u001b[1;31mXFailed\u001b[0m                                   Traceback (most recent call last)",
      "Cell \u001b[1;32mIn[15], line 3\u001b[0m\n\u001b[0;32m      1\u001b[0m \u001b[38;5;66;03m# .xfail and .fail will both fail tests with a given reason. .xfail also doesn't allow code after it to be ran. The documentation says that\u001b[39;00m\n\u001b[0;32m      2\u001b[0m \u001b[38;5;66;03m# \"it is implemented internally by raising an exception.\"\u001b[39;00m\n\u001b[1;32m----> 3\u001b[0m \u001b[38;5;129m@pt\u001b[39m\u001b[38;5;241;43m.\u001b[39;49m\u001b[43mxfail\u001b[49m\u001b[43m(\u001b[49m\u001b[43mreason\u001b[49m\u001b[38;5;241;43m=\u001b[39;49m\u001b[38;5;124;43m\"\u001b[39;49m\u001b[38;5;124;43mNot implemented yet\u001b[39;49m\u001b[38;5;124;43m\"\u001b[39;49m\u001b[43m)\u001b[49m\n\u001b[0;32m      4\u001b[0m \u001b[38;5;28;01mdef\u001b[39;00m \u001b[38;5;21mtest_quicksort\u001b[39m(array):\n\u001b[0;32m      5\u001b[0m     pythonSortedArray \u001b[38;5;241m=\u001b[39m array\u001b[38;5;241m.\u001b[39msort()\n\u001b[0;32m      6\u001b[0m     userSortedArray \u001b[38;5;241m=\u001b[39m array\u001b[38;5;241m.\u001b[39mquickSort()\n",
      "File \u001b[1;32m~\\AppData\\Local\\Programs\\Python\\Python313\\Lib\\site-packages\\_pytest\\outcomes.py:206\u001b[0m, in \u001b[0;36mxfail\u001b[1;34m(reason)\u001b[0m\n\u001b[0;32m    187\u001b[0m \u001b[38;5;250m\u001b[39m\u001b[38;5;124;03m\"\"\"Imperatively xfail an executing test or setup function with the given reason.\u001b[39;00m\n\u001b[0;32m    188\u001b[0m \n\u001b[0;32m    189\u001b[0m \u001b[38;5;124;03mThis function should be called only during testing (setup, call or teardown).\u001b[39;00m\n\u001b[1;32m   (...)\u001b[0m\n\u001b[0;32m    203\u001b[0m \u001b[38;5;124;03m    The exception that is raised.\u001b[39;00m\n\u001b[0;32m    204\u001b[0m \u001b[38;5;124;03m\"\"\"\u001b[39;00m\n\u001b[0;32m    205\u001b[0m __tracebackhide__ \u001b[38;5;241m=\u001b[39m \u001b[38;5;28;01mTrue\u001b[39;00m\n\u001b[1;32m--> 206\u001b[0m \u001b[38;5;28;01mraise\u001b[39;00m XFailed(reason)\n",
      "\u001b[1;31mXFailed\u001b[0m: Not implemented yet"
     ]
    }
   ],
   "source": [
    "# .xfail and .fail will both fail tests with a given reason. .xfail also doesn't allow code after it to be ran. The documentation says that\n",
    "# \"it is implemented internally by raising an exception.\"\n",
    "@pt.xfail(reason=\"Not implemented yet\")\n",
    "def test_quicksort(array):\n",
    "    pythonSortedArray = array.sort()\n",
    "    userSortedArray = array.quickSort()\n",
    "    assert pythonSortedArray == userSortedArray, f\"expected {pythonSortedArray} but was {userSortedArray}\""
   ]
  },
  {
   "cell_type": "markdown",
   "id": "fefb52df-bbc3-4bec-8021-6cb7a3c28ba4",
   "metadata": {},
   "source": [
    "The test below is going to fail automatically because it's marked to fail. This is good because we don't want quicksort to be tested, as it's not implemented."
   ]
  },
  {
   "cell_type": "code",
   "execution_count": 14,
   "id": "2b650eae-8aab-40aa-8a80-3faef9bdd137",
   "metadata": {},
   "outputs": [
    {
     "ename": "Failed",
     "evalue": "Not implemented yet",
     "output_type": "error",
     "traceback": [
      "\u001b[1;31m---------------------------------------------------------------------------\u001b[0m",
      "\u001b[1;31mFailed\u001b[0m                                    Traceback (most recent call last)",
      "Cell \u001b[1;32mIn[14], line 8\u001b[0m\n\u001b[0;32m      5\u001b[0m \u001b[38;5;28;01mdef\u001b[39;00m \u001b[38;5;21mquickSort\u001b[39m(array):\n\u001b[0;32m      6\u001b[0m     \u001b[38;5;28;01mpass\u001b[39;00m\n\u001b[1;32m----> 8\u001b[0m \u001b[38;5;129m@pt\u001b[39m\u001b[38;5;241;43m.\u001b[39;49m\u001b[43mfail\u001b[49m\u001b[43m(\u001b[49m\u001b[43mreason\u001b[49m\u001b[38;5;241;43m=\u001b[39;49m\u001b[38;5;124;43m\"\u001b[39;49m\u001b[38;5;124;43mNot implemented yet\u001b[39;49m\u001b[38;5;124;43m\"\u001b[39;49m\u001b[43m)\u001b[49m\n\u001b[0;32m      9\u001b[0m \u001b[38;5;28;01mdef\u001b[39;00m \u001b[38;5;21mtest_quicksort\u001b[39m(array):\n\u001b[0;32m     10\u001b[0m     pythonSortedArray \u001b[38;5;241m=\u001b[39m array\u001b[38;5;241m.\u001b[39msort()\n\u001b[0;32m     11\u001b[0m     userSortedArray \u001b[38;5;241m=\u001b[39m quickSort(array)\n",
      "File \u001b[1;32m~\\AppData\\Local\\Programs\\Python\\Python313\\Lib\\site-packages\\_pytest\\outcomes.py:178\u001b[0m, in \u001b[0;36mfail\u001b[1;34m(reason, pytrace)\u001b[0m\n\u001b[0;32m    165\u001b[0m \u001b[38;5;250m\u001b[39m\u001b[38;5;124;03m\"\"\"Explicitly fail an executing test with the given message.\u001b[39;00m\n\u001b[0;32m    166\u001b[0m \n\u001b[0;32m    167\u001b[0m \u001b[38;5;124;03m:param reason:\u001b[39;00m\n\u001b[1;32m   (...)\u001b[0m\n\u001b[0;32m    175\u001b[0m \u001b[38;5;124;03m    The exception that is raised.\u001b[39;00m\n\u001b[0;32m    176\u001b[0m \u001b[38;5;124;03m\"\"\"\u001b[39;00m\n\u001b[0;32m    177\u001b[0m __tracebackhide__ \u001b[38;5;241m=\u001b[39m \u001b[38;5;28;01mTrue\u001b[39;00m\n\u001b[1;32m--> 178\u001b[0m \u001b[38;5;28;01mraise\u001b[39;00m Failed(msg\u001b[38;5;241m=\u001b[39mreason, pytrace\u001b[38;5;241m=\u001b[39mpytrace)\n",
      "\u001b[1;31mFailed\u001b[0m: Not implemented yet"
     ]
    }
   ],
   "source": [
    "@pt.fixture\n",
    "def array():\n",
    "    return[5, 4, 3, 2, 1]\n",
    "\n",
    "def quickSort(array):\n",
    "    pass\n",
    "    \n",
    "@pt.fail(reason=\"Not implemented yet\")\n",
    "def test_quicksort(array):\n",
    "    pythonSortedArray = array.sort()\n",
    "    userSortedArray = quickSort(array)\n",
    "    assert pythonSortedArray == userSortedArray, f\"expected {pythonSortedArray} but was {userSortedArray}\"\n",
    "\n",
    "pytest.run('-v')"
   ]
  },
  {
   "cell_type": "code",
   "execution_count": 13,
   "id": "e24666cb-55c2-4c72-b81a-c5ee3a9fec7d",
   "metadata": {},
   "outputs": [
    {
     "name": "stdout",
     "output_type": "stream",
     "text": [
      "\u001b[1m======================================= test session starts =======================================\u001b[0m\n",
      "platform win32 -- Python 3.13.0, pytest-8.3.3, pluggy-1.5.0\n",
      "rootdir: C:\\Users\\jacob\\OneDrive\\Desktop\\BMI6018\\Pytest\n",
      "plugins: anyio-4.6.2.post1\n",
      "collected 3 items\n",
      "\n",
      "t_0364b4c1e070419aafc64c58d03ffabc.py \u001b[31mF\u001b[0m\u001b[32m.\u001b[0m\u001b[33ms\u001b[0m\u001b[31m                                                    [100%]\u001b[0m\n",
      "\n",
      "============================================ FAILURES =============================================\n",
      "\u001b[31m\u001b[1m_______________________________________ test_add_full_name ________________________________________\u001b[0m\n",
      "\n",
      "sample_df =    encounter_id  patient_nbr             race  gender      age weight  \\\n",
      "0       2278392      8222157        Caucasian...        NO          Male Caucasian  \n",
      "4      Ch          Yes         NO          Male Caucasian  \n",
      "\n",
      "[5 rows x 51 columns]\n",
      "\n",
      "    \u001b[0m\u001b[94mdef\u001b[39;49;00m \u001b[92mtest_add_full_name\u001b[39;49;00m(sample_df):\u001b[90m\u001b[39;49;00m\n",
      "        new_data_frame = add_full_name(sample_df)\u001b[90m\u001b[39;49;00m\n",
      "        expected_full_names = [\u001b[90m\u001b[39;49;00m\n",
      "            \u001b[33m'\u001b[39;49;00m\u001b[33mFemale AfricanAmerican\u001b[39;49;00m\u001b[33m'\u001b[39;49;00m,\u001b[90m\u001b[39;49;00m\n",
      "            \u001b[33m'\u001b[39;49;00m\u001b[33mFemale Caucasian\u001b[39;49;00m\u001b[33m'\u001b[39;49;00m,\u001b[90m\u001b[39;49;00m\n",
      "            \u001b[33m'\u001b[39;49;00m\u001b[33mFemale AfricanAmerican\u001b[39;49;00m\u001b[33m'\u001b[39;49;00m,\u001b[90m\u001b[39;49;00m\n",
      "            \u001b[33m'\u001b[39;49;00m\u001b[33mMale Caucasian\u001b[39;49;00m\u001b[33m'\u001b[39;49;00m,\u001b[90m\u001b[39;49;00m\n",
      "            \u001b[33m'\u001b[39;49;00m\u001b[33mMale Caucasian\u001b[39;49;00m\u001b[33m'\u001b[39;49;00m,\u001b[90m\u001b[39;49;00m\n",
      "        ]\u001b[90m\u001b[39;49;00m\n",
      ">       \u001b[94massert\u001b[39;49;00m \u001b[96mlist\u001b[39;49;00m(new_data_frame[\u001b[33m'\u001b[39;49;00m\u001b[33mgender_and_race\u001b[39;49;00m\u001b[33m'\u001b[39;49;00m]) == expected_full_names, \\\n",
      "            \u001b[33mf\u001b[39;49;00m\u001b[33m\"\u001b[39;49;00m\u001b[33mExpected full names \u001b[39;49;00m\u001b[33m{\u001b[39;49;00mexpected_full_names\u001b[33m}\u001b[39;49;00m\u001b[33m but got \u001b[39;49;00m\u001b[33m{\u001b[39;49;00m\u001b[96mlist\u001b[39;49;00m(new_data_frame[\u001b[33m'\u001b[39;49;00m\u001b[33mgender_and_race\u001b[39;49;00m\u001b[33m'\u001b[39;49;00m])\u001b[33m}\u001b[39;49;00m\u001b[33m\"\u001b[39;49;00m\u001b[90m\u001b[39;49;00m\n",
      "\u001b[1m\u001b[31mE       AssertionError: Expected full names ['Female AfricanAmerican', 'Female Caucasian', 'Female AfricanAmerican', 'Male Caucasian', 'Male Caucasian'] but got ['Female Caucasian', 'Female Caucasian', 'Female AfricanAmerican', 'Male Caucasian', 'Male Caucasian']\u001b[0m\n",
      "\n",
      "\u001b[1m\u001b[31mC:\\Users\\jacob\\AppData\\Local\\Temp\\ipykernel_20176\\3135470276.py\u001b[0m:11: AssertionError\n",
      "\u001b[33m======================================== warnings summary =========================================\u001b[0m\n",
      "t_0364b4c1e070419aafc64c58d03ffabc.py::test_add_full_name\n",
      "  C:\\Users\\jacob\\AppData\\Local\\Temp\\ipykernel_20176\\3608346386.py:8: SettingWithCopyWarning: \n",
      "  A value is trying to be set on a copy of a slice from a DataFrame.\n",
      "  Try using .loc[row_indexer,col_indexer] = value instead\n",
      "  \n",
      "  See the caveats in the documentation: https://pandas.pydata.org/pandas-docs/stable/user_guide/indexing.html#returning-a-view-versus-a-copy\n",
      "    df['gender_and_race'] = df['gender'] + ' ' + df['race']\n",
      "\n",
      "-- Docs: https://docs.pytest.org/en/stable/how-to/capture-warnings.html\n",
      "\u001b[36m\u001b[1m===================================== short test summary info =====================================\u001b[0m\n",
      "\u001b[31mFAILED\u001b[0m t_0364b4c1e070419aafc64c58d03ffabc.py::\u001b[1mtest_add_full_name\u001b[0m - AssertionError: Expected full names ['Female AfricanAmerican', 'Female Caucasian', 'Female Afri...\n",
      "\u001b[31m======================== \u001b[31m\u001b[1m1 failed\u001b[0m, \u001b[32m1 passed\u001b[0m, \u001b[33m1 skipped\u001b[0m, \u001b[33m1 warning\u001b[0m\u001b[31m in 0.03s\u001b[0m\u001b[31m ========================\u001b[0m\n"
     ]
    },
    {
     "data": {
      "text/plain": [
       "<ExitCode.TESTS_FAILED: 1>"
      ]
     },
     "execution_count": 13,
     "metadata": {},
     "output_type": "execute_result"
    }
   ],
   "source": [
    "\"\"\"\n",
    "I base this test off of my CS3500 class. We created a spreasheet class that contained formulas, and at one point we changed the public API of the\n",
    "formula class and as a result lost a lot of our original tests. This skip functionality is really nice because we could keep the core idea of the test\n",
    "in code, and then come back to it when we need to test the code.\n",
    "\"\"\"\n",
    "@pt.mark.skipif('evaluate' not in globals() or not callable(globals()['evaluate']), reason=\"deprecated test\")\n",
    "def test_evaluate_formula(formula):\n",
    "    formula.evaluate(some_callback_function)\n",
    "\n",
    "ipytest.run(\"-v\")"
   ]
  },
  {
   "cell_type": "markdown",
   "id": "045dc4db-9746-4760-9705-bc2322dd46e1",
   "metadata": {},
   "source": [
    "Raises"
   ]
  },
  {
   "cell_type": "code",
   "execution_count": 11,
   "id": "92d9604e-c267-42ea-94b5-32c33993d925",
   "metadata": {},
   "outputs": [
    {
     "name": "stdout",
     "output_type": "stream",
     "text": [
      "exception was raised!\n",
      "\u001b[1m======================================= test session starts =======================================\u001b[0m\n",
      "platform win32 -- Python 3.13.0, pytest-8.3.3, pluggy-1.5.0\n",
      "rootdir: C:\\Users\\jacob\\OneDrive\\Desktop\\BMI6018\\Pytest\n",
      "plugins: anyio-4.6.2.post1\n",
      "collected 2 items\n",
      "\n",
      "t_0364b4c1e070419aafc64c58d03ffabc.py \u001b[31mF\u001b[0m\u001b[32m.\u001b[0m\u001b[31m                                                     [100%]\u001b[0m\n",
      "\n",
      "============================================ FAILURES =============================================\n",
      "\u001b[31m\u001b[1m_______________________________________ test_add_full_name ________________________________________\u001b[0m\n",
      "\n",
      "sample_df =    encounter_id  patient_nbr             race  gender      age weight  \\\n",
      "0       2278392      8222157        Caucasian...        NO          Male Caucasian  \n",
      "4      Ch          Yes         NO          Male Caucasian  \n",
      "\n",
      "[5 rows x 51 columns]\n",
      "\n",
      "    \u001b[0m\u001b[94mdef\u001b[39;49;00m \u001b[92mtest_add_full_name\u001b[39;49;00m(sample_df):\u001b[90m\u001b[39;49;00m\n",
      "        new_data_frame = add_full_name(sample_df)\u001b[90m\u001b[39;49;00m\n",
      "        expected_full_names = [\u001b[90m\u001b[39;49;00m\n",
      "            \u001b[33m'\u001b[39;49;00m\u001b[33mFemale AfricanAmerican\u001b[39;49;00m\u001b[33m'\u001b[39;49;00m,\u001b[90m\u001b[39;49;00m\n",
      "            \u001b[33m'\u001b[39;49;00m\u001b[33mFemale Caucasian\u001b[39;49;00m\u001b[33m'\u001b[39;49;00m,\u001b[90m\u001b[39;49;00m\n",
      "            \u001b[33m'\u001b[39;49;00m\u001b[33mFemale AfricanAmerican\u001b[39;49;00m\u001b[33m'\u001b[39;49;00m,\u001b[90m\u001b[39;49;00m\n",
      "            \u001b[33m'\u001b[39;49;00m\u001b[33mMale Caucasian\u001b[39;49;00m\u001b[33m'\u001b[39;49;00m,\u001b[90m\u001b[39;49;00m\n",
      "            \u001b[33m'\u001b[39;49;00m\u001b[33mMale Caucasian\u001b[39;49;00m\u001b[33m'\u001b[39;49;00m,\u001b[90m\u001b[39;49;00m\n",
      "        ]\u001b[90m\u001b[39;49;00m\n",
      ">       \u001b[94massert\u001b[39;49;00m \u001b[96mlist\u001b[39;49;00m(new_data_frame[\u001b[33m'\u001b[39;49;00m\u001b[33mgender_and_race\u001b[39;49;00m\u001b[33m'\u001b[39;49;00m]) == expected_full_names, \\\n",
      "            \u001b[33mf\u001b[39;49;00m\u001b[33m\"\u001b[39;49;00m\u001b[33mExpected full names \u001b[39;49;00m\u001b[33m{\u001b[39;49;00mexpected_full_names\u001b[33m}\u001b[39;49;00m\u001b[33m but got \u001b[39;49;00m\u001b[33m{\u001b[39;49;00m\u001b[96mlist\u001b[39;49;00m(new_data_frame[\u001b[33m'\u001b[39;49;00m\u001b[33mgender_and_race\u001b[39;49;00m\u001b[33m'\u001b[39;49;00m])\u001b[33m}\u001b[39;49;00m\u001b[33m\"\u001b[39;49;00m\u001b[90m\u001b[39;49;00m\n",
      "\u001b[1m\u001b[31mE       AssertionError: Expected full names ['Female AfricanAmerican', 'Female Caucasian', 'Female AfricanAmerican', 'Male Caucasian', 'Male Caucasian'] but got ['Female Caucasian', 'Female Caucasian', 'Female AfricanAmerican', 'Male Caucasian', 'Male Caucasian']\u001b[0m\n",
      "\n",
      "\u001b[1m\u001b[31mC:\\Users\\jacob\\AppData\\Local\\Temp\\ipykernel_20176\\3135470276.py\u001b[0m:11: AssertionError\n",
      "\u001b[33m======================================== warnings summary =========================================\u001b[0m\n",
      "t_0364b4c1e070419aafc64c58d03ffabc.py::test_add_full_name\n",
      "  C:\\Users\\jacob\\AppData\\Local\\Temp\\ipykernel_20176\\3608346386.py:8: SettingWithCopyWarning: \n",
      "  A value is trying to be set on a copy of a slice from a DataFrame.\n",
      "  Try using .loc[row_indexer,col_indexer] = value instead\n",
      "  \n",
      "  See the caveats in the documentation: https://pandas.pydata.org/pandas-docs/stable/user_guide/indexing.html#returning-a-view-versus-a-copy\n",
      "    df['gender_and_race'] = df['gender'] + ' ' + df['race']\n",
      "\n",
      "-- Docs: https://docs.pytest.org/en/stable/how-to/capture-warnings.html\n",
      "\u001b[36m\u001b[1m===================================== short test summary info =====================================\u001b[0m\n",
      "\u001b[31mFAILED\u001b[0m t_0364b4c1e070419aafc64c58d03ffabc.py::\u001b[1mtest_add_full_name\u001b[0m - AssertionError: Expected full names ['Female AfricanAmerican', 'Female Caucasian', 'Female Afri...\n",
      "\u001b[31m============================= \u001b[31m\u001b[1m1 failed\u001b[0m, \u001b[32m1 passed\u001b[0m, \u001b[33m1 warning\u001b[0m\u001b[31m in 0.03s\u001b[0m\u001b[31m ==============================\u001b[0m\n"
     ]
    },
    {
     "data": {
      "text/plain": [
       "<ExitCode.TESTS_FAILED: 1>"
      ]
     },
     "execution_count": 11,
     "metadata": {},
     "output_type": "execute_result"
    }
   ],
   "source": [
    "# Often times when testing, you want to ensure that an exception is thrown in certain cases. For example, we would expect division by zero to raise an\n",
    "# exception.\n",
    "\n",
    "# Function to test\n",
    "def divide(a, b):\n",
    "    return a / b\n",
    "\n",
    "# Test function\n",
    "def test_division_by_zero():\n",
    "    with pt.raises(ZeroDivisionError, match=\"division by zero\"):\n",
    "        divide(1, 0)\n",
    "    print('exception was raised!')\n",
    "\n",
    "test_division_by_zero()\n",
    "ipytest.run(\"-v\")"
   ]
  },
  {
   "cell_type": "code",
   "execution_count": 10,
   "id": "e1c9fbdd-d0c1-4ceb-a5f5-50ede630fe43",
   "metadata": {},
   "outputs": [
    {
     "name": "stdout",
     "output_type": "stream",
     "text": [
      "\u001b[1m======================================= test session starts =======================================\u001b[0m\n",
      "platform win32 -- Python 3.13.0, pytest-8.3.3, pluggy-1.5.0\n",
      "rootdir: C:\\Users\\jacob\\OneDrive\\Desktop\\BMI6018\\Pytest\n",
      "plugins: anyio-4.6.2.post1\n",
      "collected 2 items\n",
      "\n",
      "t_0364b4c1e070419aafc64c58d03ffabc.py \u001b[31mF\u001b[0m\u001b[31mF\u001b[0m\u001b[31m                                                     [100%]\u001b[0m\n",
      "\n",
      "============================================ FAILURES =============================================\n",
      "\u001b[31m\u001b[1m_______________________________________ test_add_full_name ________________________________________\u001b[0m\n",
      "\n",
      "sample_df =    encounter_id  patient_nbr             race  gender      age weight  \\\n",
      "0       2278392      8222157        Caucasian...        NO          Male Caucasian  \n",
      "4      Ch          Yes         NO          Male Caucasian  \n",
      "\n",
      "[5 rows x 51 columns]\n",
      "\n",
      "    \u001b[0m\u001b[94mdef\u001b[39;49;00m \u001b[92mtest_add_full_name\u001b[39;49;00m(sample_df):\u001b[90m\u001b[39;49;00m\n",
      "        new_data_frame = add_full_name(sample_df)\u001b[90m\u001b[39;49;00m\n",
      "        expected_full_names = [\u001b[90m\u001b[39;49;00m\n",
      "            \u001b[33m'\u001b[39;49;00m\u001b[33mFemale AfricanAmerican\u001b[39;49;00m\u001b[33m'\u001b[39;49;00m,\u001b[90m\u001b[39;49;00m\n",
      "            \u001b[33m'\u001b[39;49;00m\u001b[33mFemale Caucasian\u001b[39;49;00m\u001b[33m'\u001b[39;49;00m,\u001b[90m\u001b[39;49;00m\n",
      "            \u001b[33m'\u001b[39;49;00m\u001b[33mFemale AfricanAmerican\u001b[39;49;00m\u001b[33m'\u001b[39;49;00m,\u001b[90m\u001b[39;49;00m\n",
      "            \u001b[33m'\u001b[39;49;00m\u001b[33mMale Caucasian\u001b[39;49;00m\u001b[33m'\u001b[39;49;00m,\u001b[90m\u001b[39;49;00m\n",
      "            \u001b[33m'\u001b[39;49;00m\u001b[33mMale Caucasian\u001b[39;49;00m\u001b[33m'\u001b[39;49;00m,\u001b[90m\u001b[39;49;00m\n",
      "        ]\u001b[90m\u001b[39;49;00m\n",
      ">       \u001b[94massert\u001b[39;49;00m \u001b[96mlist\u001b[39;49;00m(new_data_frame[\u001b[33m'\u001b[39;49;00m\u001b[33mgender_and_race\u001b[39;49;00m\u001b[33m'\u001b[39;49;00m]) == expected_full_names, \\\n",
      "            \u001b[33mf\u001b[39;49;00m\u001b[33m\"\u001b[39;49;00m\u001b[33mExpected full names \u001b[39;49;00m\u001b[33m{\u001b[39;49;00mexpected_full_names\u001b[33m}\u001b[39;49;00m\u001b[33m but got \u001b[39;49;00m\u001b[33m{\u001b[39;49;00m\u001b[96mlist\u001b[39;49;00m(new_data_frame[\u001b[33m'\u001b[39;49;00m\u001b[33mgender_and_race\u001b[39;49;00m\u001b[33m'\u001b[39;49;00m])\u001b[33m}\u001b[39;49;00m\u001b[33m\"\u001b[39;49;00m\u001b[90m\u001b[39;49;00m\n",
      "\u001b[1m\u001b[31mE       AssertionError: Expected full names ['Female AfricanAmerican', 'Female Caucasian', 'Female AfricanAmerican', 'Male Caucasian', 'Male Caucasian'] but got ['Female Caucasian', 'Female Caucasian', 'Female AfricanAmerican', 'Male Caucasian', 'Male Caucasian']\u001b[0m\n",
      "\n",
      "\u001b[1m\u001b[31mC:\\Users\\jacob\\AppData\\Local\\Temp\\ipykernel_20176\\3135470276.py\u001b[0m:11: AssertionError\n",
      "\u001b[31m\u001b[1m______________________________________ test_division_by_zero ______________________________________\u001b[0m\n",
      "\n",
      "    \u001b[0m\u001b[94mdef\u001b[39;49;00m \u001b[92mtest_division_by_zero\u001b[39;49;00m():\u001b[90m\u001b[39;49;00m\n",
      ">       \u001b[94mwith\u001b[39;49;00m pt.raises(\u001b[96mZeroDivisionError\u001b[39;49;00m, match=\u001b[33m\"\u001b[39;49;00m\u001b[33mdivision by zero\u001b[39;49;00m\u001b[33m\"\u001b[39;49;00m):\u001b[90m\u001b[39;49;00m\n",
      "\u001b[1m\u001b[31mE       Failed: DID NOT RAISE <class 'ZeroDivisionError'>\u001b[0m\n",
      "\n",
      "\u001b[1m\u001b[31mC:\\Users\\jacob\\AppData\\Local\\Temp\\ipykernel_20176\\665047723.py\u001b[0m:7: Failed\n",
      "\u001b[33m======================================== warnings summary =========================================\u001b[0m\n",
      "t_0364b4c1e070419aafc64c58d03ffabc.py::test_add_full_name\n",
      "  C:\\Users\\jacob\\AppData\\Local\\Temp\\ipykernel_20176\\3608346386.py:8: SettingWithCopyWarning: \n",
      "  A value is trying to be set on a copy of a slice from a DataFrame.\n",
      "  Try using .loc[row_indexer,col_indexer] = value instead\n",
      "  \n",
      "  See the caveats in the documentation: https://pandas.pydata.org/pandas-docs/stable/user_guide/indexing.html#returning-a-view-versus-a-copy\n",
      "    df['gender_and_race'] = df['gender'] + ' ' + df['race']\n",
      "\n",
      "-- Docs: https://docs.pytest.org/en/stable/how-to/capture-warnings.html\n",
      "\u001b[36m\u001b[1m===================================== short test summary info =====================================\u001b[0m\n",
      "\u001b[31mFAILED\u001b[0m t_0364b4c1e070419aafc64c58d03ffabc.py::\u001b[1mtest_add_full_name\u001b[0m - AssertionError: Expected full names ['Female AfricanAmerican', 'Female Caucasian', 'Female Afri...\n",
      "\u001b[31mFAILED\u001b[0m t_0364b4c1e070419aafc64c58d03ffabc.py::\u001b[1mtest_division_by_zero\u001b[0m - Failed: DID NOT RAISE <class 'ZeroDivisionError'>\n",
      "\u001b[31m================================== \u001b[31m\u001b[1m2 failed\u001b[0m, \u001b[33m1 warning\u001b[0m\u001b[31m in 0.03s\u001b[0m\u001b[31m ===================================\u001b[0m\n"
     ]
    },
    {
     "data": {
      "text/plain": [
       "<ExitCode.TESTS_FAILED: 1>"
      ]
     },
     "execution_count": 10,
     "metadata": {},
     "output_type": "execute_result"
    }
   ],
   "source": [
    "# Function to test\n",
    "def divide(a, b):\n",
    "    return a / b\n",
    "\n",
    "# Test function\n",
    "def test_division_by_zero():\n",
    "    with pt.raises(ZeroDivisionError, match=\"division by zero\"):\n",
    "        divide(1, 2)\n",
    "    print('exception was raised!')\n",
    "\n",
    "# This print statement was never called because an exception was not raised.\n",
    "ipytest.run(\"-v\")"
   ]
  },
  {
   "cell_type": "code",
   "execution_count": 17,
   "id": "2ace4310-c3d3-42e3-a9fa-5f0e513c70de",
   "metadata": {},
   "outputs": [
    {
     "name": "stdout",
     "output_type": "stream",
     "text": [
      "\u001b[1m======================================= test session starts =======================================\u001b[0m\n",
      "platform win32 -- Python 3.13.0, pytest-8.3.3, pluggy-1.5.0\n",
      "rootdir: C:\\Users\\jacob\\OneDrive\\Desktop\\BMI6018\\Pytest\n",
      "plugins: anyio-4.6.2.post1\n",
      "collected 6 items\n",
      "\n",
      "t_0364b4c1e070419aafc64c58d03ffabc.py \u001b[31mF\u001b[0m\u001b[32m.\u001b[0m\u001b[33ms\u001b[0m\u001b[32m.\u001b[0m\u001b[32m.\u001b[0m\u001b[32m.\u001b[0m\u001b[31m                                                 [100%]\u001b[0m\n",
      "\n",
      "============================================ FAILURES =============================================\n",
      "\u001b[31m\u001b[1m_______________________________________ test_add_full_name ________________________________________\u001b[0m\n",
      "\n",
      "sample_df =    encounter_id  patient_nbr             race  gender      age weight  \\\n",
      "0       2278392      8222157        Caucasian...        NO          Male Caucasian  \n",
      "4      Ch          Yes         NO          Male Caucasian  \n",
      "\n",
      "[5 rows x 51 columns]\n",
      "\n",
      "    \u001b[0m\u001b[94mdef\u001b[39;49;00m \u001b[92mtest_add_full_name\u001b[39;49;00m(sample_df):\u001b[90m\u001b[39;49;00m\n",
      "        new_data_frame = add_full_name(sample_df)\u001b[90m\u001b[39;49;00m\n",
      "        expected_full_names = [\u001b[90m\u001b[39;49;00m\n",
      "            \u001b[33m'\u001b[39;49;00m\u001b[33mFemale AfricanAmerican\u001b[39;49;00m\u001b[33m'\u001b[39;49;00m,\u001b[90m\u001b[39;49;00m\n",
      "            \u001b[33m'\u001b[39;49;00m\u001b[33mFemale Caucasian\u001b[39;49;00m\u001b[33m'\u001b[39;49;00m,\u001b[90m\u001b[39;49;00m\n",
      "            \u001b[33m'\u001b[39;49;00m\u001b[33mFemale AfricanAmerican\u001b[39;49;00m\u001b[33m'\u001b[39;49;00m,\u001b[90m\u001b[39;49;00m\n",
      "            \u001b[33m'\u001b[39;49;00m\u001b[33mMale Caucasian\u001b[39;49;00m\u001b[33m'\u001b[39;49;00m,\u001b[90m\u001b[39;49;00m\n",
      "            \u001b[33m'\u001b[39;49;00m\u001b[33mMale Caucasian\u001b[39;49;00m\u001b[33m'\u001b[39;49;00m,\u001b[90m\u001b[39;49;00m\n",
      "        ]\u001b[90m\u001b[39;49;00m\n",
      ">       \u001b[94massert\u001b[39;49;00m \u001b[96mlist\u001b[39;49;00m(new_data_frame[\u001b[33m'\u001b[39;49;00m\u001b[33mgender_and_race\u001b[39;49;00m\u001b[33m'\u001b[39;49;00m]) == expected_full_names, \\\n",
      "            \u001b[33mf\u001b[39;49;00m\u001b[33m\"\u001b[39;49;00m\u001b[33mExpected full names \u001b[39;49;00m\u001b[33m{\u001b[39;49;00mexpected_full_names\u001b[33m}\u001b[39;49;00m\u001b[33m but got \u001b[39;49;00m\u001b[33m{\u001b[39;49;00m\u001b[96mlist\u001b[39;49;00m(new_data_frame[\u001b[33m'\u001b[39;49;00m\u001b[33mgender_and_race\u001b[39;49;00m\u001b[33m'\u001b[39;49;00m])\u001b[33m}\u001b[39;49;00m\u001b[33m\"\u001b[39;49;00m\u001b[90m\u001b[39;49;00m\n",
      "\u001b[1m\u001b[31mE       AssertionError: Expected full names ['Female AfricanAmerican', 'Female Caucasian', 'Female AfricanAmerican', 'Male Caucasian', 'Male Caucasian'] but got ['Female Caucasian', 'Female Caucasian', 'Female AfricanAmerican', 'Male Caucasian', 'Male Caucasian']\u001b[0m\n",
      "\n",
      "\u001b[1m\u001b[31mC:\\Users\\jacob\\AppData\\Local\\Temp\\ipykernel_20176\\3135470276.py\u001b[0m:11: AssertionError\n",
      "\u001b[33m======================================== warnings summary =========================================\u001b[0m\n",
      "t_0364b4c1e070419aafc64c58d03ffabc.py::test_add_full_name\n",
      "  C:\\Users\\jacob\\AppData\\Local\\Temp\\ipykernel_20176\\3608346386.py:8: SettingWithCopyWarning: \n",
      "  A value is trying to be set on a copy of a slice from a DataFrame.\n",
      "  Try using .loc[row_indexer,col_indexer] = value instead\n",
      "  \n",
      "  See the caveats in the documentation: https://pandas.pydata.org/pandas-docs/stable/user_guide/indexing.html#returning-a-view-versus-a-copy\n",
      "    df['gender_and_race'] = df['gender'] + ' ' + df['race']\n",
      "\n",
      "-- Docs: https://docs.pytest.org/en/stable/how-to/capture-warnings.html\n",
      "\u001b[36m\u001b[1m===================================== short test summary info =====================================\u001b[0m\n",
      "\u001b[31mFAILED\u001b[0m t_0364b4c1e070419aafc64c58d03ffabc.py::\u001b[1mtest_add_full_name\u001b[0m - AssertionError: Expected full names ['Female AfricanAmerican', 'Female Caucasian', 'Female Afri...\n",
      "\u001b[31m======================== \u001b[31m\u001b[1m1 failed\u001b[0m, \u001b[32m4 passed\u001b[0m, \u001b[33m1 skipped\u001b[0m, \u001b[33m1 warning\u001b[0m\u001b[31m in 0.04s\u001b[0m\u001b[31m ========================\u001b[0m\n"
     ]
    },
    {
     "data": {
      "text/plain": [
       "<ExitCode.TESTS_FAILED: 1>"
      ]
     },
     "execution_count": 17,
     "metadata": {},
     "output_type": "execute_result"
    }
   ],
   "source": [
    "\"\"\"\n",
    "To run the testing suit, we use ipytest. After running ipytest, the results of each test that is found is printed below. There are 5 cases that pass, \n",
    "and then 1 case that fails. This is the expected behavior, as I wanted to show that tests will fail if there is a problem with the test. The failure message\n",
    "is very descriptive, and it even shows the error where I used a copy of the dataframe instead of the actual data frame. I found the error accidentally,\n",
    "but it showcases even more the power of PyTest.\n",
    "\"\"\"\n",
    "import ipytest\n",
    "ipytest.autoconfig()\n",
    "ipytest.run('-v')"
   ]
  },
  {
   "cell_type": "code",
   "execution_count": null,
   "id": "87f4c98d-ea91-4f7d-acda-90d237d90934",
   "metadata": {},
   "outputs": [],
   "source": []
  }
 ],
 "metadata": {
  "kernelspec": {
   "display_name": "Python 3 (ipykernel)",
   "language": "python",
   "name": "python3"
  },
  "language_info": {
   "codemirror_mode": {
    "name": "ipython",
    "version": 3
   },
   "file_extension": ".py",
   "mimetype": "text/x-python",
   "name": "python",
   "nbconvert_exporter": "python",
   "pygments_lexer": "ipython3",
   "version": "3.13.0"
  }
 },
 "nbformat": 4,
 "nbformat_minor": 5
}
